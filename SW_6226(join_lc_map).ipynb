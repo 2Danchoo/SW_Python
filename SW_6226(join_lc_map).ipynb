{
  "nbformat": 4,
  "nbformat_minor": 0,
  "metadata": {
    "colab": {
      "name": "SW_6226(join_lc_map).ipynb",
      "provenance": [],
      "collapsed_sections": []
    },
    "kernelspec": {
      "name": "python3",
      "display_name": "Python 3"
    }
  },
  "cells": [
    {
      "cell_type": "markdown",
      "metadata": {
        "id": "NaVMlPkcOe5C"
      },
      "source": [
        "**SW Expert Academy 파이썬 프로그래밍 기초(1)**\r\n",
        "# 6226. 파이썬 기초 6. 흐름제어 - If - 연습문제 7\r\n",
        "\r\n",
        "<hr/><br>\r\n",
        "\r\n",
        "1~200 사이의 정수 가운데 7의 배수이면서 5의 배수는 아닌 모든 숫자들을 찾아\r\n",
        "\r\n",
        "콤마(,)로 구분된 문자열을 구성해 출력하는 프로그램을 작성하십시오. <br><br>\r\n",
        "\r\n",
        "출력 : 7,14,21,28,42,49,56,63,77,84,91,98,112,119,126,133,147,154,161,168,182,189,196\r\n",
        "\r\n",
        "<br><hr/>"
      ]
    },
    {
      "cell_type": "markdown",
      "metadata": {
        "id": "Muxi-39Hv5oI"
      },
      "source": [
        "가장 먼저 작성한 코드"
      ]
    },
    {
      "cell_type": "code",
      "metadata": {
        "colab": {
          "base_uri": "https://localhost:8080/"
        },
        "id": "TgIao2_MT0NG",
        "outputId": "c3439f0a-bf24-44fb-daad-1159a6f48767"
      },
      "source": [
        "for i in range(1,201) :\r\n",
        "    if i % 5 == 0 :\r\n",
        "        del(i)\r\n",
        "    elif i % 7 == 0 :  \r\n",
        "        print(i, end = \",\") # 그런데 마지막에 쉼표(,)가 함께 출력되었다. "
      ],
      "execution_count": null,
      "outputs": [
        {
          "output_type": "stream",
          "text": [
            "7,14,21,28,42,49,56,63,77,84,91,98,112,119,126,133,147,154,161,168,182,189,196,"
          ],
          "name": "stdout"
        }
      ]
    },
    {
      "cell_type": "markdown",
      "metadata": {
        "id": "eZFTZcHh1mOU"
      },
      "source": [
        "##**중첩 if 조건문**\r\n",
        "\r\n",
        "if문은 또 다른 if문을 가질 수 있고, 이를 중첩 if문이라 한다.   \r\n",
        "중첩 if문은 조건의 포함 관계, 특히 인덴트(들여쓰기)를 주의해야 한다.   \r\n",
        "조건이 중첩 되기 때문에 \"첫번째 if문을 충족하면서 동시에 두번째 if문을 충족하면 실행하라\" 라는 의미를 가진다.\r\n",
        "\r\n",
        "```\r\n",
        "if 조건문 :\r\n",
        "　　수행할 문장\r\n",
        "　　if 조건문 :\r\n",
        "　　　수행할 문장\r\n",
        "```\r\n",
        "여기에서 두번째 if문의 들여쓰기는 첫번째 if문과 같아야 한다. \r\n",
        "\r\n"
      ]
    },
    {
      "cell_type": "code",
      "metadata": {
        "colab": {
          "base_uri": "https://localhost:8080/"
        },
        "id": "uD2er2XYkm9s",
        "outputId": "bdda0548-108b-4ba2-8fcc-857604867b72"
      },
      "source": [
        "for i in range(1,201) :\r\n",
        "    if i % 7 == 0 :\r\n",
        "        if i % 5 != 0 :\r\n",
        "            print(i, end = \",\")"
      ],
      "execution_count": null,
      "outputs": [
        {
          "output_type": "stream",
          "text": [
            "7,14,21,28,42,49,56,63,77,84,91,98,112,119,126,133,147,154,161,168,182,189,196,"
          ],
          "name": "stdout"
        }
      ]
    },
    {
      "cell_type": "markdown",
      "metadata": {
        "id": "H_tE6j3Ekd7O"
      },
      "source": [
        "##**if 조건문에서 and 연산자 사용**"
      ]
    },
    {
      "cell_type": "markdown",
      "metadata": {
        "id": "N1jPBvMrnGMw"
      },
      "source": [
        "**and, or, not**\r\n",
        "\r\n",
        "조건을 판단하기 위해 사용하는 다른 연산자로 and, or, not이 있다.\r\n",
        "\r\n",
        "각각의 연산자에 대한 설명은 다음과 같다.\r\n",
        "\r\n",
        "|**연산자**|**설명**|\r\n",
        "|:-:|:-:|\r\n",
        "|**x or y**|x와 y 둘 중에 하나만 참이어도 참이다|\r\n",
        "|**x and y**|x와 y 모두 참이어야 참이다|\r\n",
        "|**not x**|x가 거짓이면 참이다|"
      ]
    },
    {
      "cell_type": "code",
      "metadata": {
        "colab": {
          "base_uri": "https://localhost:8080/"
        },
        "id": "IeuJlmSJMDOK",
        "outputId": "5a945398-415a-4ad8-ab4c-a2be1ea30d23"
      },
      "source": [
        "a = \"\"\r\n",
        "print(type(a))"
      ],
      "execution_count": null,
      "outputs": [
        {
          "output_type": "stream",
          "text": [
            "<class 'str'>\n"
          ],
          "name": "stdout"
        }
      ]
    },
    {
      "cell_type": "code",
      "metadata": {
        "colab": {
          "base_uri": "https://localhost:8080/"
        },
        "id": "cJVocRpKXibz",
        "outputId": "76c47eea-d26a-46ec-a833-cc51a6626e30"
      },
      "source": [
        "a = (1, 2, 3, 4, 5)\r\n",
        "print(a[:-1])"
      ],
      "execution_count": null,
      "outputs": [
        {
          "output_type": "stream",
          "text": [
            "(1, 2, 3, 4)\n"
          ],
          "name": "stdout"
        }
      ]
    },
    {
      "cell_type": "code",
      "metadata": {
        "colab": {
          "base_uri": "https://localhost:8080/"
        },
        "id": "CNCo5cTbvtd1",
        "outputId": "7a123c40-d9ad-465c-ab22-f247e97c0331"
      },
      "source": [
        "a = \"\"\r\n",
        "for i in range(1, 201) :\r\n",
        "    if(i % 7 == 0) and (i % 5 != 0) :\r\n",
        "        a += str(i) + \",\"\r\n",
        "\r\n",
        "print(a[:-1]) # 가장 마지막에 오는 문자열인 쉼표'.'를 제외하고 출력"
      ],
      "execution_count": null,
      "outputs": [
        {
          "output_type": "stream",
          "text": [
            "7,14,21,28,42,49,56,63,77,84,91,98,112,119,126,133,147,154,161,168,182,189,196\n"
          ],
          "name": "stdout"
        }
      ]
    },
    {
      "cell_type": "markdown",
      "metadata": {
        "id": "PBaudy1wF6gX"
      },
      "source": [
        "##**for 반복문으로 리스트를 생성하여 결과값 도출**"
      ]
    },
    {
      "cell_type": "code",
      "metadata": {
        "colab": {
          "base_uri": "https://localhost:8080/"
        },
        "id": "Rq__6aH6QQ0x",
        "outputId": "924c72a6-bb60-46ef-9052-d1a74bbeb7cf"
      },
      "source": [
        "result = []     # 빈 리스트 생성\r\n",
        "for i in range(1,201) :\r\n",
        "    if (i % 7 == 0) and (i % 5 != 0) :\r\n",
        "        result.append(i)    # append로 조건을 만족하는 요소를 리스트에 추가\r\n",
        "\r\n",
        "print(result)"
      ],
      "execution_count": null,
      "outputs": [
        {
          "output_type": "stream",
          "text": [
            "[7, 14, 21, 28, 42, 49, 56, 63, 77, 84, 91, 98, 112, 119, 126, 133, 147, 154, 161, 168, 182, 189, 196]\n"
          ],
          "name": "stdout"
        }
      ]
    },
    {
      "cell_type": "markdown",
      "metadata": {
        "id": "7TSvIeIZVv7x"
      },
      "source": [
        "`join`메소드를 사용하여 리스트 안의 요소들을 문자열로 변환해주려 하였으나,   \r\n",
        "`str.join()` 메소드는 str 데이터 타입 요소가 있는 리스트를 문자열로 변환해주는 것으로 \r\n",
        "\r\n",
        "```\r\n",
        "TypeError: sequence item 0: expected str instance, int found\r\n",
        "```\r\n",
        "\r\n",
        "위와 같은 에러가 발생함"
      ]
    },
    {
      "cell_type": "code",
      "metadata": {
        "colab": {
          "base_uri": "https://localhost:8080/",
          "height": 208
        },
        "id": "YKKNP6HbRYsj",
        "outputId": "fdf0f54f-5770-43bc-a70a-a93717c2004b"
      },
      "source": [
        "result = []     # 빈 리스트 생성\r\n",
        "for i in range(1,201) :\r\n",
        "    if (i % 7 == 0) and (i % 5 != 0) :\r\n",
        "        result.append(i)    # append로 조건을 만족하는 요소를 리스트에 추가\r\n",
        "\r\n",
        "print(\"\".join(result)) "
      ],
      "execution_count": null,
      "outputs": [
        {
          "output_type": "error",
          "ename": "TypeError",
          "evalue": "ignored",
          "traceback": [
            "\u001b[0;31m---------------------------------------------------------------------------\u001b[0m",
            "\u001b[0;31mTypeError\u001b[0m                                 Traceback (most recent call last)",
            "\u001b[0;32m<ipython-input-50-c049efbee609>\u001b[0m in \u001b[0;36m<module>\u001b[0;34m()\u001b[0m\n\u001b[1;32m      4\u001b[0m         \u001b[0mresult\u001b[0m\u001b[0;34m.\u001b[0m\u001b[0mappend\u001b[0m\u001b[0;34m(\u001b[0m\u001b[0mi\u001b[0m\u001b[0;34m)\u001b[0m    \u001b[0;31m# append로 조건을 만족하는 요소를 리스트에 추가\u001b[0m\u001b[0;34m\u001b[0m\u001b[0;34m\u001b[0m\u001b[0m\n\u001b[1;32m      5\u001b[0m \u001b[0;34m\u001b[0m\u001b[0m\n\u001b[0;32m----> 6\u001b[0;31m \u001b[0mprint\u001b[0m\u001b[0;34m(\u001b[0m\u001b[0;34m\"\"\u001b[0m\u001b[0;34m.\u001b[0m\u001b[0mjoin\u001b[0m\u001b[0;34m(\u001b[0m\u001b[0mresult\u001b[0m\u001b[0;34m)\u001b[0m\u001b[0;34m)\u001b[0m\u001b[0;34m\u001b[0m\u001b[0;34m\u001b[0m\u001b[0m\n\u001b[0m",
            "\u001b[0;31mTypeError\u001b[0m: sequence item 0: expected str instance, int found"
          ]
        }
      ]
    },
    {
      "cell_type": "markdown",
      "metadata": {
        "id": "nGj-FEerWhhS"
      },
      "source": [
        "str 데이터 유형이 아닌 int 형식을 문자열로 변환해주기 위해   \r\n",
        "리스트 안에 있는 int 타입의 요소들을 str 타입으로 먼저 바꾸어준다.\r\n"
      ]
    },
    {
      "cell_type": "markdown",
      "metadata": {
        "id": "1zvHndrHjY5X"
      },
      "source": [
        "###**1. List Comprehension**\r\n",
        "리스트를 문자열로 변환해주기 위한 방법 중 하나인 List comprehension\r\n",
        "\r\n",
        "> 리스트 컴프리헨션이란 쉽게 말해 리스트를 쉽고 **짧게 한 줄로** 만들 수 있는 파이썬의 문법이다.\r\n",
        "\r\n",
        "리스트 컴프리헨션의 기본적인 문법은 다음과 같다.\r\n",
        "\r\n",
        "```\r\n",
        "[ ( 변수를 활용한 값 ) for ( 사용할 변수 이름 ) in ( 순회할 수 있는 값 )]\r\n",
        "```"
      ]
    },
    {
      "cell_type": "code",
      "metadata": {
        "colab": {
          "base_uri": "https://localhost:8080/"
        },
        "id": "xnRWf2270PEc",
        "outputId": "b0543321-81a0-4647-e243-ec3922ec7b5c"
      },
      "source": [
        "size = 10\r\n",
        "for i in range(size):\r\n",
        "    arr[i] = i * 2\r\n",
        "\r\n",
        "print(arr)"
      ],
      "execution_count": 22,
      "outputs": [
        {
          "output_type": "stream",
          "text": [
            "[0, 2, 4, 6, 8, 10, 12, 14, 16, 18]\n"
          ],
          "name": "stdout"
        }
      ]
    },
    {
      "cell_type": "code",
      "metadata": {
        "colab": {
          "base_uri": "https://localhost:8080/"
        },
        "id": "9HG4DWpw0QG1",
        "outputId": "776e3a7b-dbaa-413b-bff6-d7d62314b5d2"
      },
      "source": [
        "size = 10\r\n",
        "arr = [i * 2 for i in range(size)]\r\n",
        "\r\n",
        "print(arr)"
      ],
      "execution_count": 21,
      "outputs": [
        {
          "output_type": "stream",
          "text": [
            "[0, 2, 4, 6, 8, 10, 12, 14, 16, 18]\n"
          ],
          "name": "stdout"
        }
      ]
    },
    {
      "cell_type": "markdown",
      "metadata": {
        "id": "S4zc8Wu-3EYF"
      },
      "source": [
        "이제 list comprehension을 써서 리스트를 문자열로 변환해준다"
      ]
    },
    {
      "cell_type": "code",
      "metadata": {
        "colab": {
          "base_uri": "https://localhost:8080/",
          "height": 35
        },
        "id": "WrPXxYuKlNhO",
        "outputId": "9abf594a-0e0e-490a-81d2-093adbc1e6ef"
      },
      "source": [
        "a = [1,2,3]\r\n",
        "\"\".join([str(_) for _ in a])"
      ],
      "execution_count": null,
      "outputs": [
        {
          "output_type": "execute_result",
          "data": {
            "application/vnd.google.colaboratory.intrinsic+json": {
              "type": "string"
            },
            "text/plain": [
              "'123'"
            ]
          },
          "metadata": {
            "tags": []
          },
          "execution_count": 56
        }
      ]
    },
    {
      "cell_type": "code",
      "metadata": {
        "colab": {
          "base_uri": "https://localhost:8080/",
          "height": 35
        },
        "id": "Gjs3Z1WWUIMZ",
        "outputId": "22b1183e-a6f2-4646-87a2-30e8d72c6dfa"
      },
      "source": [
        "result = []     # 빈 리스트 생성\r\n",
        "for i in range(1,201) :\r\n",
        "    if (i % 7 == 0) and (i % 5 != 0) :\r\n",
        "        result.append(i)    # append로 조건을 만족하는 요소를 리스트에 추가\r\n",
        "\r\n",
        "\",\".join([str(_) for _ in result])  # list comprehension으로 result의 int type 리스트를 str type 으로 변환"
      ],
      "execution_count": null,
      "outputs": [
        {
          "output_type": "execute_result",
          "data": {
            "application/vnd.google.colaboratory.intrinsic+json": {
              "type": "string"
            },
            "text/plain": [
              "'7,14,21,28,42,49,56,63,77,84,91,98,112,119,126,133,147,154,161,168,182,189,196'"
            ]
          },
          "metadata": {
            "tags": []
          },
          "execution_count": 61
        }
      ]
    },
    {
      "cell_type": "markdown",
      "metadata": {
        "id": "PdIfSfuBmjtt"
      },
      "source": [
        "#### How to print a list without brackets in Python\r\n",
        "리스트를 출력할 때 괄호와 마크업 없이 단지 결과값만을 추출하고자 한다면   \r\n",
        "아래와 같이 변수 이름(리스트명) 앞에 *을 넣어주면 된다.   \r\n",
        "```\r\n",
        "print(*value, sep=\"\")\r\n",
        "```\r\n"
      ]
    },
    {
      "cell_type": "markdown",
      "metadata": {
        "id": "urEnYJ-HsoU-"
      },
      "source": [
        "예시)"
      ]
    },
    {
      "cell_type": "code",
      "metadata": {
        "colab": {
          "base_uri": "https://localhost:8080/"
        },
        "id": "rUXiGAwrr0cl",
        "outputId": "a09a6349-ee46-4dbf-9359-4e2dc65d71c7"
      },
      "source": [
        "a = [1, 2, 3]\r\n",
        "print(*a)"
      ],
      "execution_count": 11,
      "outputs": [
        {
          "output_type": "stream",
          "text": [
            "1 2 3\n"
          ],
          "name": "stdout"
        }
      ]
    },
    {
      "cell_type": "markdown",
      "metadata": {
        "id": "D-Cg1KHQr_G5"
      },
      "source": [
        "이때, 리스트 안의 요소들을 분리하여 개별적으로 풀어서 출력하기에   \r\n",
        "구분자의 기본값인 `sep=' '` 공백, 즉 띄어쓰기가 되어 출력되므로     \r\n",
        "쉼표를 사용하는 등 다른 내용으로 출력하고 싶다면 `sep=\"내용\"`과 같이 써주면 된다."
      ]
    },
    {
      "cell_type": "code",
      "metadata": {
        "colab": {
          "base_uri": "https://localhost:8080/"
        },
        "id": "Ok4od1Knnr_d",
        "outputId": "84c628fb-ecbc-4736-f6d2-2cb16c977279"
      },
      "source": [
        "a = [1, 2, 3]\r\n",
        "print(*a, sep = \",\")"
      ],
      "execution_count": 13,
      "outputs": [
        {
          "output_type": "stream",
          "text": [
            "1,2,3\n"
          ],
          "name": "stdout"
        }
      ]
    },
    {
      "cell_type": "markdown",
      "metadata": {
        "id": "NjYCErvIu7Na"
      },
      "source": [
        "리스트에서 괄호를 제외한 값만을 출력하는 방법을 배웠으니 이제 적용해보자"
      ]
    },
    {
      "cell_type": "code",
      "metadata": {
        "colab": {
          "base_uri": "https://localhost:8080/"
        },
        "id": "lnIxkv6pok5K",
        "outputId": "0085f99f-c39d-43a4-dc23-adf25b0fe9a7"
      },
      "source": [
        "result = []     # 빈 리스트 생성\r\n",
        "for i in range(1,201) :\r\n",
        "    if (i % 7 == 0) and (i % 5 != 0) :\r\n",
        "        result.append(i)    # append로 조건을 만족하는 요소를 리스트에 추가\r\n",
        "\r\n",
        "print(result)"
      ],
      "execution_count": 9,
      "outputs": [
        {
          "output_type": "stream",
          "text": [
            "[7, 14, 21, 28, 42, 49, 56, 63, 77, 84, 91, 98, 112, 119, 126, 133, 147, 154, 161, 168, 182, 189, 196]\n"
          ],
          "name": "stdout"
        }
      ]
    },
    {
      "cell_type": "code",
      "metadata": {
        "colab": {
          "base_uri": "https://localhost:8080/"
        },
        "id": "Nc12r7KZoXUU",
        "outputId": "ca939049-8b82-4911-f20d-9b37fee5b4c7"
      },
      "source": [
        "result = []     # 빈 리스트 생성\r\n",
        "for i in range(1,201) :\r\n",
        "    if (i % 7 == 0) and (i % 5 != 0) :\r\n",
        "        result.append(i)    # append로 조건을 만족하는 요소를 리스트에 추가\r\n",
        "\r\n",
        "print(*result, sep=\",\")"
      ],
      "execution_count": 8,
      "outputs": [
        {
          "output_type": "stream",
          "text": [
            "7,14,21,28,42,49,56,63,77,84,91,98,112,119,126,133,147,154,161,168,182,189,196\n"
          ],
          "name": "stdout"
        }
      ]
    },
    {
      "cell_type": "markdown",
      "metadata": {
        "id": "_mweBbXlyuSv"
      },
      "source": [
        "###__2. map 함수__\r\n",
        "\r\n",
        "`map` 함수는 `str` 함수를 목록 a 의 모든 항목에 적용하고 반복 가능한 `map` 객체를 반환한다.\r\n",
        "\r\n",
        "`\"\".join()`은 `map` 객체의 모든 요소를 ​​반복하고 연결된 요소를 문자열로 반환한다."
      ]
    },
    {
      "cell_type": "code",
      "metadata": {
        "colab": {
          "base_uri": "https://localhost:8080/",
          "height": 36
        },
        "id": "weahUpkR3uxp",
        "outputId": "fd212ad7-f3b4-4824-f576-5d858cd9fca9"
      },
      "source": [
        "a = [1,2,3]\r\n",
        "\"\".join(map(str, a))"
      ],
      "execution_count": 28,
      "outputs": [
        {
          "output_type": "execute_result",
          "data": {
            "application/vnd.google.colaboratory.intrinsic+json": {
              "type": "string"
            },
            "text/plain": [
              "'123'"
            ]
          },
          "metadata": {
            "tags": []
          },
          "execution_count": 28
        }
      ]
    },
    {
      "cell_type": "code",
      "metadata": {
        "colab": {
          "base_uri": "https://localhost:8080/"
        },
        "id": "HCsqwT8g3zvn",
        "outputId": "f34aaeca-7a7e-4e9a-b988-15f772d0380f"
      },
      "source": [
        "result = []     # 빈 리스트 생성\r\n",
        "for i in range(1,201) :\r\n",
        "    if (i % 7 == 0) and (i % 5 != 0) :\r\n",
        "        result.append(i)    # append로 조건을 만족하는 요소를 리스트에 추가\r\n",
        "\r\n",
        "print(\",\".join(map(str,result)))    # map 함수를 이용하여 리스트를 문자열로 변환"
      ],
      "execution_count": 36,
      "outputs": [
        {
          "output_type": "stream",
          "text": [
            "7,14,21,28,42,49,56,63,77,84,91,98,112,119,126,133,147,154,161,168,182,189,196\n"
          ],
          "name": "stdout"
        }
      ]
    },
    {
      "cell_type": "markdown",
      "metadata": {
        "id": "0qPAQj1PxWw0"
      },
      "source": [
        "###결과\r\n"
      ]
    },
    {
      "cell_type": "markdown",
      "metadata": {
        "id": "srKQcW1n43s0"
      },
      "source": [
        "방법 1. \r\n",
        "\r\n",
        "if 조건문을 만족하는 for 반복문을 str 값으로 받고   `a = \"\"` `a += str(i)`   \r\n",
        "각 값마다 쉼표(,) 문자열을 더한 후   `+ \",\"`   \r\n",
        "맨 끝에서 1 앞의 값까지만 출력  `print(a[:-1])` (맨 끝에 오는 쉼표는 출력되지 않음)"
      ]
    },
    {
      "cell_type": "code",
      "metadata": {
        "colab": {
          "base_uri": "https://localhost:8080/"
        },
        "id": "JxceEdhnxPmD",
        "outputId": "8bcf04b1-0601-4955-8196-1bcf91c74901"
      },
      "source": [
        "a = \"\"\r\n",
        "for i in range(1, 201) :\r\n",
        "    if(i % 7 == 0) and (i % 5 != 0) :\r\n",
        "        a += str(i) + \",\"\r\n",
        "\r\n",
        "print(a[:-1])"
      ],
      "execution_count": 16,
      "outputs": [
        {
          "output_type": "stream",
          "text": [
            "7,14,21,28,42,49,56,63,77,84,91,98,112,119,126,133,147,154,161,168,182,189,196\n"
          ],
          "name": "stdout"
        }
      ]
    },
    {
      "cell_type": "markdown",
      "metadata": {
        "id": "KUpLqPHgxb8h"
      },
      "source": [
        "방법 2-1. for 문으로 리스트 생성 후 문자열 변환 1 (*value)"
      ]
    },
    {
      "cell_type": "code",
      "metadata": {
        "colab": {
          "base_uri": "https://localhost:8080/"
        },
        "id": "OCZ8ud_TxTIP",
        "outputId": "668cbba3-153a-4482-c7b5-22a4f42ca0e6"
      },
      "source": [
        "result = []    \r\n",
        "for i in range(1,201) :\r\n",
        "    if (i % 7 == 0) and (i % 5 != 0) :\r\n",
        "        result.append(i)   \r\n",
        "\r\n",
        "print(*result, sep=\",\")"
      ],
      "execution_count": 17,
      "outputs": [
        {
          "output_type": "stream",
          "text": [
            "7,14,21,28,42,49,56,63,77,84,91,98,112,119,126,133,147,154,161,168,182,189,196\n"
          ],
          "name": "stdout"
        }
      ]
    },
    {
      "cell_type": "markdown",
      "metadata": {
        "id": "4aSzmh314g7V"
      },
      "source": [
        "방법 2-2. for문으로 리스트 생성 후 문자열 변환 2 (map 함수)"
      ]
    },
    {
      "cell_type": "code",
      "metadata": {
        "id": "8u7rODuK4jFi"
      },
      "source": [
        "result = []   \r\n",
        "for i in range(1,201) :\r\n",
        "    if (i % 7 == 0) and (i % 5 != 0) :\r\n",
        "        result.append(i)  \r\n",
        "\r\n",
        "print(\",\".join(map(str,result)))  "
      ],
      "execution_count": null,
      "outputs": []
    },
    {
      "cell_type": "markdown",
      "metadata": {
        "id": "WpGPHDqyAo9W"
      },
      "source": [
        "[참고]\r\n",
        "\r\n",
        "중첩 if문 : https://m.blog.naver.com/scyan2011/221701591488   \r\n",
        "반복문으로 리스트 만들기 : https://dojang.io/mod/page/view.php?id=2293   \r\n",
        "리스트를 문자열로 변환하는 방법 : https://www.delftstack.com/ko/howto/python/how-to-convert-a-list-to-string/   \r\n",
        "List comprehension : https://shoark7.github.io/programming/python/about-list-comprehension-python   \r\n",
        "How to print a list without brackets : https://www.kite.com/python/answers/how-to-print-a-list-without-brackets-in-python"
      ]
    }
  ]
}