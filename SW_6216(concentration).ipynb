{
  "nbformat": 4,
  "nbformat_minor": 0,
  "metadata": {
    "colab": {
      "name": "sw_python1_5.ipynb",
      "provenance": [],
      "collapsed_sections": []
    },
    "kernelspec": {
      "name": "python3",
      "display_name": "Python 3"
    }
  },
  "cells": [
    {
      "cell_type": "markdown",
      "metadata": {
        "id": "j2iyy81xhdpf"
      },
      "source": [
        "###**SW Expert Academy**\r\n",
        "파이썬 프로그래밍 기초(1)   \r\n",
        "11차시 5. 연산자 - 연습문제 5 <br>\r\n",
        "<hr/><br>\r\n",
        "\r\n",
        "20% 농도의 소금물 100g과 물 200g을 혼합한 소금물의 농도(%)를   \r\n",
        "소수점 두 번째 자리까지 구하는 프로그램을 작성하십시오.\r\n",
        "<br><br>\r\n",
        "\r\n",
        "<hr/>\r\n",
        "출력 : 혼합된 소금물의 농도: 6.67%"
      ]
    },
    {
      "cell_type": "markdown",
      "metadata": {
        "id": "o0vttwKniETb"
      },
      "source": [
        "소금물의 농도(%) = 소금의 양 / 소금물의 양 * 100\r\n",
        "<hr/>\r\n",
        "\r\n",
        "20 = x / 100 * 100\r\n",
        "x = 20 , 소금의 양 = 20\r\n",
        "\r\n",
        "y = 20 / 300 * 100   \r\n",
        "y = 6.67"
      ]
    },
    {
      "cell_type": "markdown",
      "metadata": {
        "id": "YrqudgT5rwMe"
      },
      "source": [
        "**format 함수** \r\n",
        "\r\n",
        "https://dojang.io/mod/page/view.php?id=2300\r\n",
        "\r\n",
        "https://reddb.tistory.com/71\r\n"
      ]
    },
    {
      "cell_type": "code",
      "metadata": {
        "id": "1IImto6tg0tB",
        "colab": {
          "base_uri": "https://localhost:8080/"
        },
        "outputId": "3ec16271-301d-40ab-bf05-6e7effff146e"
      },
      "source": [
        "swden = (20/300)*100\r\n",
        "print(\"혼합된 소금물의 농도: %.2f%%\" %swden)"
      ],
      "execution_count": 20,
      "outputs": [
        {
          "output_type": "stream",
          "text": [
            "혼합된 소금물의 농도: 6.67%\n"
          ],
          "name": "stdout"
        }
      ]
    },
    {
      "cell_type": "code",
      "metadata": {
        "colab": {
          "base_uri": "https://localhost:8080/"
        },
        "id": "zVlCMHJRw0Qm",
        "outputId": "8587daa7-5906-45a3-e2ce-f72a27316a21"
      },
      "source": [
        "print(\"혼합된 소금물의 농도 : %.2f %%\" % (20/300*100))"
      ],
      "execution_count": 22,
      "outputs": [
        {
          "output_type": "stream",
          "text": [
            "혼합된 소금물의 농도 : 6.67 %\n"
          ],
          "name": "stdout"
        }
      ]
    },
    {
      "cell_type": "code",
      "metadata": {
        "colab": {
          "base_uri": "https://localhost:8080/"
        },
        "id": "NnHElvoOvH1S",
        "outputId": "2f3462e7-c0f7-4862-a740-5feb1bcc396b"
      },
      "source": [
        "print(\"혼합된 소금물의 농도(%): {0:.2f}\" .format((20/300)*100))"
      ],
      "execution_count": 23,
      "outputs": [
        {
          "output_type": "stream",
          "text": [
            "혼합된 소금물의 농도(%): 6.67\n"
          ],
          "name": "stdout"
        }
      ]
    }
  ]
}