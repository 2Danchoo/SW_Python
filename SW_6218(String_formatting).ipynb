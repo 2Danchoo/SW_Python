{
  "nbformat": 4,
  "nbformat_minor": 0,
  "metadata": {
    "colab": {
      "name": "SW_6218.ipynb",
      "provenance": [],
      "collapsed_sections": []
    },
    "kernelspec": {
      "name": "python3",
      "display_name": "Python 3"
    }
  },
  "cells": [
    {
      "cell_type": "markdown",
      "metadata": {
        "id": "e_LRDBVCIeJq"
      },
      "source": [
        "**SW Expert Academy 파이썬 프로그래밍 기초(1)**\r\n",
        "## 6218. 파이썬 기초 6. 흐름과 제어 - If - 연습문제 1\r\n",
        "\r\n",
        "<hr/><br>\r\n",
        "\r\n",
        "다음의 결과와 같이 임의의 양의 정수를 입력받아 그 정수의 모든 약수를 구하십시오.\r\n",
        "\r\n",
        "입력 : 9 <br>\r\n",
        "출력 : 1(은)는 9의 약수입니다.   \r\n",
        "　　　3(은)는 9의 약수입니다.   \r\n",
        "　　　9(은)는 9의 약수입니다.   \r\n",
        "\r\n",
        "<br><hr/>\r\n"
      ]
    },
    {
      "cell_type": "markdown",
      "metadata": {
        "id": "RBEa_G26Lv_Y"
      },
      "source": [
        "#### % Operating\r\n",
        "\r\n",
        "포맷팅하고자 하는 데이터의 형태에 따라 포맷 코드를 달리 사용해야 한다.\r\n",
        "\r\n",
        "<hr>\r\n",
        "%s : 문자열 (string)   <br>\r\n",
        "%c : 문자 1개 (character)  <br> \r\n",
        "%d : 정수 (integer)   <br>\r\n",
        "%f : 부동소수 (floating-point)   <br>\r\n",
        "%o : 8진수    <br>\r\n",
        "%x : 16진수   <br>\r\n",
        "%% : Literal % (문자열 %) <br>\r\n",
        "<hr>\r\n",
        "\r\n",
        "여기에서 %s 포맷 코드는 어떤 형태의 값이든 변환해 넣을 수 있다.   \r\n",
        "%s 는 자동으로 % 뒤의 값을 문자열로 바꾸기 때문\r\n",
        "\r\n",
        "\r\n"
      ]
    },
    {
      "cell_type": "code",
      "metadata": {
        "colab": {
          "base_uri": "https://localhost:8080/"
        },
        "id": "bB9PKTYtNrbt",
        "outputId": "94a108ef-aa60-4c10-961d-29f6deab8319"
      },
      "source": [
        "aliquot = int(input())\r\n",
        "\r\n",
        "for i in range(1, aliquot+1) :\r\n",
        "    if aliquot % i == 0 :\r\n",
        "        print(i,\"(은)는 %d의 약수입니다.\" %aliquot)"
      ],
      "execution_count": null,
      "outputs": [
        {
          "output_type": "stream",
          "text": [
            "9\n",
            "1 (은)는 9의 약수입니다.\n",
            "3 (은)는 9의 약수입니다.\n",
            "9 (은)는 9의 약수입니다.\n"
          ],
          "name": "stdout"
        }
      ]
    },
    {
      "cell_type": "code",
      "metadata": {
        "colab": {
          "base_uri": "https://localhost:8080/"
        },
        "id": "w_kBtMERPLvQ",
        "outputId": "45b6c426-86d9-4fdc-9f8f-e7d925a60b8d"
      },
      "source": [
        "aliquot = int(input())\r\n",
        "\r\n",
        "for i in range(1, aliquot+1) :\r\n",
        "    if aliquot % i == 0 :\r\n",
        "        print(\"%d(은)는 %d의 약수입니다.\" %(i,aliquot))"
      ],
      "execution_count": null,
      "outputs": [
        {
          "output_type": "stream",
          "text": [
            "9\n",
            "1(은)는 9의 약수입니다.\n",
            "3(은)는 9의 약수입니다.\n",
            "9(은)는 9의 약수입니다.\n"
          ],
          "name": "stdout"
        }
      ]
    },
    {
      "cell_type": "markdown",
      "metadata": {
        "id": "p186VZvTYXVw"
      },
      "source": [
        "#### format\r\n",
        "\r\n",
        "About formatted Output :    \r\n",
        "https://www.python-course.eu/python3_formatted_output.php"
      ]
    },
    {
      "cell_type": "code",
      "metadata": {
        "colab": {
          "base_uri": "https://localhost:8080/"
        },
        "id": "UMEbvQEuIdaM",
        "outputId": "a2063e9a-b642-4de1-b920-bc28964040d9"
      },
      "source": [
        "aliquot = int(input())\r\n",
        "\r\n",
        "for i in range(1, aliquot+1) :\r\n",
        "    if aliquot % i == 0 :\r\n",
        "        print(\"{}(은)는 {}의 약수입니다.\".format(i, aliquot))"
      ],
      "execution_count": null,
      "outputs": [
        {
          "output_type": "stream",
          "text": [
            "9\n",
            "1(은)는 9의 약수입니다.\n",
            "3(은)는 9의 약수입니다.\n",
            "9(은)는 9의 약수입니다.\n"
          ],
          "name": "stdout"
        }
      ]
    },
    {
      "cell_type": "code",
      "metadata": {
        "colab": {
          "base_uri": "https://localhost:8080/"
        },
        "id": "whd7-xfqlWYi",
        "outputId": "9b320817-4337-4491-d203-78704216bf7d"
      },
      "source": [
        "a = int(input())\r\n",
        "\r\n",
        "for i in range(1, a+1) :\r\n",
        "    if a % i == 0 :\r\n",
        "        print(\"{}(은)는 {}의 약수입니다.\".format(i, a))"
      ],
      "execution_count": null,
      "outputs": [
        {
          "output_type": "stream",
          "text": [
            "9\n",
            "1(은)는 9의 약수입니다.\n",
            "3(은)는 9의 약수입니다.\n",
            "9(은)는 9의 약수입니다.\n"
          ],
          "name": "stdout"
        }
      ]
    },
    {
      "cell_type": "code",
      "metadata": {
        "colab": {
          "base_uri": "https://localhost:8080/"
        },
        "id": "FP1M1i8ul0Qk",
        "outputId": "6511d9eb-979b-478c-98dd-9676257e47eb"
      },
      "source": [
        "a = int(input())\r\n",
        "\r\n",
        "for i in range(1, a+1) :\r\n",
        "    if a % i == 0 :\r\n",
        "        print(i, \"(은)는 {}의 약수입니다.\".format(a))"
      ],
      "execution_count": null,
      "outputs": [
        {
          "output_type": "stream",
          "text": [
            "9\n",
            "1 (은)는 9의 약수입니다.\n",
            "3 (은)는 9의 약수입니다.\n",
            "9 (은)는 9의 약수입니다.\n"
          ],
          "name": "stdout"
        }
      ]
    },
    {
      "cell_type": "markdown",
      "metadata": {
        "id": "08G0WLR5ZmwL"
      },
      "source": [
        "#### f-string\r\n",
        "\r\n",
        "**`f'{string}'`**\r\n",
        "\r\n",
        "> F-string은 PEP-498 제안을 통해 Python 3.6 부터 지원되기 시작한 기능으로 정식 명칭은 Literal String Interpolation 이다. <br> f-string은 다른 포맷 방법보다 읽기 쉽고, 간결하며, 오류 발생 가능성이 적을 뿐 아니라 속도도 더 빠르다.\r\n",
        "\r\n",
        "f-string의 사용 방법은 간단하다.   \r\n",
        "문자열을 표현하는 구문 앞에 `f`를 붙이면 된다.\r\n",
        "\r\n",
        "```\r\n",
        ">>> name = 'Robin'\r\n",
        ">>> print(f\"My name is {name}\")\r\n",
        "\r\n",
        "out : My name is Robin\r\n",
        "```\r\n",
        "\r\n",
        "중괄호{ } 안에 넣어주는 표기만으로   \r\n",
        "name 이라는 변수를 쉽게 문자열 안에 삽입할 수 있다. \r\n",
        "\r\n",
        "다만, f-string 을 사용할 때   \r\n",
        "중괄호 {} 내부에서는 백슬래시(\\\\)를 쓸 수 없다는 점을 주의해야 한다."
      ]
    },
    {
      "cell_type": "code",
      "metadata": {
        "colab": {
          "base_uri": "https://localhost:8080/"
        },
        "id": "tSvVSa4DZa-O",
        "outputId": "b3d7f216-0b94-4ac9-a560-2aaffc045479"
      },
      "source": [
        "aliquot = int(input())\r\n",
        "\r\n",
        "for i in range(1, aliquot+1) :\r\n",
        "    if aliquot % i == 0 :\r\n",
        "        print(i, f\"(은)는 {aliquot}의 약수입니다.\")"
      ],
      "execution_count": null,
      "outputs": [
        {
          "output_type": "stream",
          "text": [
            "9\n",
            "1 (은)는 9의 약수입니다.\n",
            "3 (은)는 9의 약수입니다.\n",
            "9 (은)는 9의 약수입니다.\n"
          ],
          "name": "stdout"
        }
      ]
    },
    {
      "cell_type": "markdown",
      "metadata": {
        "id": "uTAgFb07ZxA4"
      },
      "source": [
        "#### while문을 사용하여 예외 처리"
      ]
    },
    {
      "cell_type": "code",
      "metadata": {
        "colab": {
          "base_uri": "https://localhost:8080/"
        },
        "id": "t7HPkuuGKmLM",
        "outputId": "822c5bd4-4168-4cb7-af16-ece350ae6c79"
      },
      "source": [
        "while(True) :\r\n",
        "    try :\r\n",
        "        aliquot = int(input(\"약수를 구할 숫자 : \"))\r\n",
        "        break ;\r\n",
        "    except :\r\n",
        "        print(\"숫자만 입력할 수 있습니다\") \r\n",
        "\r\n",
        "for i in range(1, aliquot+1) :\r\n",
        "    if aliquot % i == 0 :\r\n",
        "        print(\"%d(은)는 %d의 약수입니다.\" %(i,aliquot))"
      ],
      "execution_count": null,
      "outputs": [
        {
          "output_type": "stream",
          "text": [
            "약수를 구할 숫자 : 구\n",
            "숫자만 입력할 수 있습니다\n",
            "약수를 구할 숫자 : 9\n",
            "1(은)는 9의 약수입니다.\n",
            "3(은)는 9의 약수입니다.\n",
            "9(은)는 9의 약수입니다.\n"
          ],
          "name": "stdout"
        }
      ]
    },
    {
      "cell_type": "markdown",
      "metadata": {
        "id": "2hXnngSpiGnO"
      },
      "source": [
        "[참고]\r\n",
        "\r\n",
        "파이썬 약수 출력, 약수의 개수 구하기   \r\n",
        "https://manniz.tistory.com/entry/Python%ED%8C%8C%EC%9D%B4%EC%8D%AC-%EC%95%BD%EC%88%98-%EC%B6%9C%EB%A0%A5-%EC%95%BD%EC%88%98%EC%9D%98-%EA%B0%9C%EC%88%98-%EA%B5%AC%ED%95%98%EA%B8%B0-%EC%86%8C%EC%8A%A4%EC%BD%94%EB%93%9C-%EC%84%A4%EB%AA%85\r\n",
        "\r\n",
        "문자열 포맷팅 방법 (%, str.format, f-string)   \r\n",
        "https://brownbears.tistory.com/421\r\n",
        "\r\n",
        "Python 3's f-Strings   \r\n",
        "https://realpython.com/python-f-strings/"
      ]
    }
  ]
}