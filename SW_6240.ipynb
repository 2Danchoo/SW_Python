{
  "nbformat": 4,
  "nbformat_minor": 0,
  "metadata": {
    "colab": {
      "name": "SW_6240.ipynb",
      "provenance": [],
      "collapsed_sections": []
    },
    "kernelspec": {
      "name": "python3",
      "display_name": "Python 3"
    }
  },
  "cells": [
    {
      "cell_type": "markdown",
      "metadata": {
        "id": "Q4LA_DoqVZzm"
      },
      "source": [
        "**SW Expert Academy 파이썬 프로그래밍 기초(1)**\r\n",
        "# 6240. 파이썬 기초 (21차시) 7. 흐름과 제어 - 반복 - 연습문제 5\r\n",
        "<hr/><br>\r\n",
        "\r\n",
        "1부터 100사이의 숫자 중 3의 배수의 총합을 for 문을 이용해 출력하십시오.\r\n",
        "\r\n",
        "<br><hr/>\r\n",
        "\r\n",
        "입력 : 입력값 없음 <br>\r\n",
        "출력 : 1부터 100사이의 숫자 중 3의 배수의 총합: 1683  "
      ]
    },
    {
      "cell_type": "code",
      "metadata": {
        "colab": {
          "base_uri": "https://localhost:8080/"
        },
        "id": "5a-Rl8xkVYGz",
        "outputId": "f5085373-2fa4-4d71-8b86-1466642a122c"
      },
      "source": [
        "sum = 0\r\n",
        "\r\n",
        "for i in range(1,100) :\r\n",
        "    if i % 3 == 0 :\r\n",
        "        sum += i\r\n",
        "\r\n",
        "print(f\"1부터 100사이의 숫자 중 3의 배수의 총합: {sum}\")"
      ],
      "execution_count": 6,
      "outputs": [
        {
          "output_type": "stream",
          "text": [
            "1부터 100사이의 숫자 중 3의 배수의 총합: 1683\n"
          ],
          "name": "stdout"
        }
      ]
    }
  ]
}