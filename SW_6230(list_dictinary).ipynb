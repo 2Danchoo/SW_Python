{
  "nbformat": 4,
  "nbformat_minor": 0,
  "metadata": {
    "colab": {
      "name": "SW_6230.ipynb",
      "provenance": [],
      "collapsed_sections": []
    },
    "kernelspec": {
      "name": "python3",
      "display_name": "Python 3"
    }
  },
  "cells": [
    {
      "cell_type": "markdown",
      "metadata": {
        "id": "gxsLkgTLsk8J"
      },
      "source": [
        "**SW Expert Academy 파이썬 프로그래밍 기초(1)**\r\n",
        "# 6230. 파이썬 기초 (21차시) 7. 흐름과 제어 - 반복 - 연습문제 1\r\n",
        "<hr/><br>\r\n",
        "다음의 결과와 같이 5명의 학생의 점수에 대해 60 이상일 때 합격 메시지를 출력하고,\r\n",
        "\r\n",
        "60미만일 때 불합격 메시지를 출력하는 프로그램을 만드십시오.\r\n",
        "<br><hr/>\r\n",
        "\r\n",
        "입력 : 입력값 없음 <br>\r\n",
        "출력 : 1번 학생은 88점으로 합격입니다.   \r\n",
        " 　　　2번 학생은 30점으로 불합격입니다.   \r\n",
        " 　　　3번 학생은 61점으로 합격입니다.   \r\n",
        " 　　　4번 학생은 55점으로 불합격입니다.   \r\n",
        " 　　　5번 학생은 95점으로 합격입니다.   \r\n"
      ]
    },
    {
      "cell_type": "markdown",
      "metadata": {
        "id": "-v3Tie6UPtUd"
      },
      "source": [
        "## List"
      ]
    },
    {
      "cell_type": "code",
      "metadata": {
        "colab": {
          "base_uri": "https://localhost:8080/"
        },
        "id": "9T-Ni8MCLsRY",
        "outputId": "d4765fd4-08b9-4c6c-8685-3775ca2edeb9"
      },
      "source": [
        "scores = [88, 30, 61, 55, 95]\r\n",
        "num = 0\r\n",
        "\r\n",
        "for score in scores :\r\n",
        "    num = num + 1\r\n",
        "    if score >= 60 :\r\n",
        "        print(\"%d번 학생은 %d점으로 합격입니다.\" % (num, score))\r\n",
        "    else :\r\n",
        "        print(\"%d번 학생은 %d점으로 불합격입니다.\" % (num, score))"
      ],
      "execution_count": 1,
      "outputs": [
        {
          "output_type": "stream",
          "text": [
            "1번 학생은 88점으로 합격입니다.\n",
            "2번 학생은 30점으로 불합격입니다.\n",
            "3번 학생은 61점으로 합격입니다.\n",
            "4번 학생은 55점으로 불합격입니다.\n",
            "5번 학생은 95점으로 합격입니다.\n"
          ],
          "name": "stdout"
        }
      ]
    },
    {
      "cell_type": "markdown",
      "metadata": {
        "id": "1G_6XzD83C5o"
      },
      "source": [
        "#### Dictionary 표현식에서 for문 및 if문 사용\r\n",
        "\r\n"
      ]
    },
    {
      "cell_type": "code",
      "metadata": {
        "colab": {
          "base_uri": "https://localhost:8080/"
        },
        "id": "ThPiBiRisbzU",
        "outputId": "bf216b17-fca0-4c60-d06c-83c1a5d060ea"
      },
      "source": [
        "score = {'1번' : 88, '2번' : 30, '3번' : 61, '4번' : 55, '5번' : 950}\r\n",
        "print(score)\r\n"
      ],
      "execution_count": null,
      "outputs": [
        {
          "output_type": "stream",
          "text": [
            "{'1번': 88, '2번': 30, '3번': 61, '4번': 55, '5번': 950}\n"
          ],
          "name": "stdout"
        }
      ]
    },
    {
      "cell_type": "code",
      "metadata": {
        "colab": {
          "base_uri": "https://localhost:8080/"
        },
        "id": "ipEDR3Qx17zS",
        "outputId": "4b6efd06-5de2-4a37-c97c-11543c1b353a"
      },
      "source": [
        "exam = {'1번' : 88, '2번' : 30, '3번' : 61, '4번' : 55, '5번' : 95}\r\n",
        "\r\n",
        "for key, value in exam.items() :\r\n",
        "    if value >= 60 :\r\n",
        "        print(\"{} 학생은 {}점으로 합격입니다.\".format(key, exam[key]))\r\n",
        "    elif value < 60 :\r\n",
        "        print(\"{} 학생은 {}점으로 불합격입니다.\".format(key, exam[key]))\r\n",
        "    else :\r\n",
        "        pass"
      ],
      "execution_count": null,
      "outputs": [
        {
          "output_type": "stream",
          "text": [
            "1번 학생은 88점으로 합격입니다.\n",
            "2번 학생은 30점으로 불합격입니다.\n",
            "3번 학생은 61점으로 합격입니다.\n",
            "4번 학생은 55점으로 불합격입니다.\n",
            "5번 학생은 95점으로 합격입니다.\n"
          ],
          "name": "stdout"
        }
      ]
    },
    {
      "cell_type": "markdown",
      "metadata": {
        "id": "Jx8km7c011ao"
      },
      "source": [
        "참고\r\n",
        "\r\n",
        "딕셔너리 표현식에서 if문 사용하기 : https://dojang.io/mod/page/view.php?id=2309"
      ]
    }
  ]
}