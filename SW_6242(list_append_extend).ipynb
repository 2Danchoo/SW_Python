{
  "nbformat": 4,
  "nbformat_minor": 0,
  "metadata": {
    "colab": {
      "name": "SW_6242(list_append-extend).ipynb",
      "provenance": [],
      "collapsed_sections": []
    },
    "kernelspec": {
      "name": "python3",
      "display_name": "Python 3"
    }
  },
  "cells": [
    {
      "cell_type": "markdown",
      "metadata": {
        "id": "sAforqU_kN64"
      },
      "source": [
        "**SW Expert Academy 파이썬 프로그래밍 기초(1)**\r\n",
        "# 6242. 파이썬 기초 (21차시) 7. 흐름과 제어 - 반복 - 연습문제 6\r\n",
        "<hr/><br>\r\n",
        "\r\n",
        "다음은 10명의 학생들의 혈액형(A, B, AB, O) 데이터입니다.\r\n",
        "\r\n",
        "['A', 'A', 'A', 'O', 'B', 'B', 'O', 'AB', 'AB', 'O']\r\n",
        "\r\n",
        "for 문을 이용하여 각 혈액형 별 학생수를 구하십시오.\r\n",
        "\r\n",
        "<br><hr/>\r\n",
        "\r\n",
        "입력 : 입력값 없음 <br>\r\n",
        "출력 : {'A': 3, 'O': 3, 'B': 2, 'AB': 2}"
      ]
    },
    {
      "cell_type": "markdown",
      "metadata": {
        "id": "4dsUTuK4xSZV"
      },
      "source": [
        "## 1차 시도 (for 문과 if 문에서 리스트 객체를 이용해 답을 구하는 방법)"
      ]
    },
    {
      "cell_type": "code",
      "metadata": {
        "colab": {
          "base_uri": "https://localhost:8080/"
        },
        "id": "_uxUUkDfkNaS",
        "outputId": "0a3c3beb-0f5e-4eac-aed7-63d76e957ebb"
      },
      "source": [
        "btype = ['A', 'A', 'A', 'O', 'B', 'B', 'O', 'AB', 'AB', 'O']\r\n",
        "a = []\r\n",
        "b = []\r\n",
        "ab = []\r\n",
        "o = []\r\n",
        "\r\n",
        "for i in btype :\r\n",
        "    if i == 'A' :\r\n",
        "        a += i\r\n",
        "    elif i == 'B' :\r\n",
        "        b += i\r\n",
        "    elif i == 'AB' :\r\n",
        "        ab += i \r\n",
        "    else :\r\n",
        "        o += i\r\n",
        "\r\n",
        "print(f\"'A':{len(a)}, 'O':{len(o)}, 'B':{len(b)}, 'AB':{len(ab)}\")      "
      ],
      "execution_count": null,
      "outputs": [
        {
          "output_type": "stream",
          "text": [
            "'A':3, 'O':3, 'B':2, 'AB':4\n"
          ],
          "name": "stdout"
        }
      ]
    },
    {
      "cell_type": "markdown",
      "metadata": {
        "id": "MiExkBgNxXUO"
      },
      "source": [
        "AB 값 오류"
      ]
    },
    {
      "cell_type": "code",
      "metadata": {
        "colab": {
          "base_uri": "https://localhost:8080/"
        },
        "id": "bBZASHlAn4F5",
        "outputId": "2a393099-d4dd-476d-8c48-b155506bab45"
      },
      "source": [
        "btype = ['A', 'A', 'A', 'O', 'B', 'B', 'O', 'AB', 'AB', 'O']\r\n",
        "a = []\r\n",
        "b = []\r\n",
        "ab = []\r\n",
        "o = []\r\n",
        "\r\n",
        "for i in btype :\r\n",
        "    if i == 'A' :\r\n",
        "        a += i\r\n",
        "    elif i == 'B' :\r\n",
        "        b += i\r\n",
        "    elif i == 'AB' :\r\n",
        "        ab += i \r\n",
        "    else :\r\n",
        "        o += i\r\n",
        "\r\n",
        "print(ab)"
      ],
      "execution_count": null,
      "outputs": [
        {
          "output_type": "stream",
          "text": [
            "['A', 'B', 'A', 'B']\n"
          ],
          "name": "stdout"
        }
      ]
    },
    {
      "cell_type": "markdown",
      "metadata": {
        "id": "U--8lEi1xeW4"
      },
      "source": [
        "###**'AB'가 'A'와 'B'로 분리 되어 ab 변수에 저장 되는 이유 추적**\r\n",
        "<hr>\r\n"
      ]
    },
    {
      "cell_type": "markdown",
      "metadata": {
        "id": "A278Fxjzfvog"
      },
      "source": [
        "####리스트 \r\n",
        "https://docs.python.org/ko/3/library/stdtypes.html\r\n",
        "\r\n",
        "<hr>\r\n",
        "\r\n",
        "리스트는 가변 시퀀스로, 일반적으로 등질 항목들의 모음을 저장하는 데 사용된다 (정확한 유사도는 응용 프로그램마다 다를 수 있다).\r\n",
        "\r\n",
        "*class* **list**(*[iterable]*)   \r\n",
        "　리스트는 여러 가지 방법으로 만들 수 있다:\r\n",
        "\r\n",
        "\r\n",
        "\r\n",
        "*   대괄호를 사용하여 빈 리스트를 표시하기: []\r\n",
        "*   대괄호를 사용하여 쉼표로 항목 구분하기: [a], [a, b, c]\r\n",
        "*   리스트 컴프리헨션 사용하기: [x for x in iterable]\r\n",
        "*   형 생성자를 사용하기: list() 또는 list(iterable)\r\n",
        "\r\n",
        "생성자는 항목들과 그 순서가 *iterable* 과 같은 리스트를 만든다.    \r\n",
        "*iterable* 은 시퀀스, 이터레이션을 지원하는 컨테이너, 이터레이터 객체가 될 수 있다.   \r\n",
        "*iterable* 이 이미 리스트라면, `iterable[:]` 과 비슷하게 복사본을 만들어서 반환한다. \r\n",
        "\r\n",
        "예를 들어, `list('abc')` 는 `['a', 'b', 'c']` 를 반환하고   \r\n",
        "`list( (1, 2, 3) )` 는 `[1, 2, 3]` 를 반환한다.   \r\n",
        "인자가 주어지지 않으면, 생성자는 새로운 빈 리스트인 `[]` 을 만든다.\r\n"
      ]
    },
    {
      "cell_type": "markdown",
      "metadata": {
        "id": "KZzPtL-1f0zG"
      },
      "source": [
        "#### list append()와 extend()의 차이점\r\n",
        "\r\n",
        "**append()** : 리스트 요소 추가\r\n",
        "\r\n",
        "리스트에서 `append()`는 새로운 요소를 리스트의 끝에 더하여 주는데, 이때 그 요소 자체를 원소로 넣는다. \r\n",
        "\r\n"
      ]
    },
    {
      "cell_type": "code",
      "metadata": {
        "colab": {
          "base_uri": "https://localhost:8080/"
        },
        "id": "mWgrMhZzx92k",
        "outputId": "9a50a32a-aec3-43ba-9a57-2a95de0e1751"
      },
      "source": [
        "a = [1, 2, 3]\r\n",
        "b = [4, 5]\r\n",
        "a.append(b)     # 리스트 이름 뒤에 점(.)을 찍고 append를 쓴 후 소괄호() 안에 추가할 원소를 적는다\r\n",
        "\r\n",
        "print(a)    # a 리스트의 맨 끝에 b 리스트 그 자체인 [4, 5]가 추가 되어 [1, 2, 3, [4, 5]] 가 출력된다.\r\n",
        "print(a.pop(3))     # list.pop() 을 써서 a 리스트의 인덱스 3의 요소를 제거하여 출력하면 [4,5]가 나온다."
      ],
      "execution_count": 4,
      "outputs": [
        {
          "output_type": "stream",
          "text": [
            "[1, 2, 3, [4, 5]]\n",
            "[4, 5]\n"
          ],
          "name": "stdout"
        }
      ]
    },
    {
      "cell_type": "markdown",
      "metadata": {
        "id": "ntzKUhmE180r"
      },
      "source": [
        "**extend()** : 리스트 확장\r\n",
        "\r\n",
        "`extend(x)`에서 x 에는 리스트만 올 수 있으며,   \r\n",
        "`append()`처럼 요소 자체가 아니라 x 리스트 안에 있는 요소들 각 항목이 더해진다. (iterable의 모든 항목)\r\n"
      ]
    },
    {
      "cell_type": "code",
      "metadata": {
        "colab": {
          "base_uri": "https://localhost:8080/"
        },
        "id": "ZOpaRVJ10G5U",
        "outputId": "bad72edf-bc5f-4171-ce07-7951162096b9"
      },
      "source": [
        "a = [1, 2, 3]\r\n",
        "a.extend([4,5])\r\n",
        "a"
      ],
      "execution_count": 19,
      "outputs": [
        {
          "output_type": "execute_result",
          "data": {
            "text/plain": [
              "[1, 2, 3, 4, 5]"
            ]
          },
          "metadata": {
            "tags": []
          },
          "execution_count": 19
        }
      ]
    },
    {
      "cell_type": "markdown",
      "metadata": {
        "id": "9BxOR2JH9fV5"
      },
      "source": [
        "extend 의 소괄호() 안에 리스트가 아닌 형태의 변수 혹은 정수를 넣으면   \r\n",
        "아래와 같은 오류 메시지가 뜬다.\r\n",
        "```\r\n",
        "TypeError: 'int' object is not iterable\r\n",
        "```\r\n",
        "\r\n"
      ]
    },
    {
      "cell_type": "code",
      "metadata": {
        "colab": {
          "base_uri": "https://localhost:8080/",
          "height": 226
        },
        "id": "kyZKbbkh9OIt",
        "outputId": "790eea38-3b2e-4441-ad20-174b7956b45c"
      },
      "source": [
        "a = [1, 2, 3]\r\n",
        "b = 5\r\n",
        "a.extend(b)\r\n",
        "a"
      ],
      "execution_count": 22,
      "outputs": [
        {
          "output_type": "error",
          "ename": "TypeError",
          "evalue": "ignored",
          "traceback": [
            "\u001b[0;31m---------------------------------------------------------------------------\u001b[0m",
            "\u001b[0;31mTypeError\u001b[0m                                 Traceback (most recent call last)",
            "\u001b[0;32m<ipython-input-22-f4b5a9d8689e>\u001b[0m in \u001b[0;36m<module>\u001b[0;34m()\u001b[0m\n\u001b[1;32m      1\u001b[0m \u001b[0ma\u001b[0m \u001b[0;34m=\u001b[0m \u001b[0;34m[\u001b[0m\u001b[0;36m1\u001b[0m\u001b[0;34m,\u001b[0m \u001b[0;36m2\u001b[0m\u001b[0;34m,\u001b[0m \u001b[0;36m3\u001b[0m\u001b[0;34m]\u001b[0m\u001b[0;34m\u001b[0m\u001b[0;34m\u001b[0m\u001b[0m\n\u001b[1;32m      2\u001b[0m \u001b[0mb\u001b[0m \u001b[0;34m=\u001b[0m \u001b[0;36m5\u001b[0m\u001b[0;34m\u001b[0m\u001b[0;34m\u001b[0m\u001b[0m\n\u001b[0;32m----> 3\u001b[0;31m \u001b[0ma\u001b[0m\u001b[0;34m.\u001b[0m\u001b[0mextend\u001b[0m\u001b[0;34m(\u001b[0m\u001b[0mb\u001b[0m\u001b[0;34m)\u001b[0m\u001b[0;34m\u001b[0m\u001b[0;34m\u001b[0m\u001b[0m\n\u001b[0m\u001b[1;32m      4\u001b[0m \u001b[0ma\u001b[0m\u001b[0;34m\u001b[0m\u001b[0;34m\u001b[0m\u001b[0m\n",
            "\u001b[0;31mTypeError\u001b[0m: 'int' object is not iterable"
          ]
        }
      ]
    },
    {
      "cell_type": "markdown",
      "metadata": {
        "id": "PYs4XPV52yiN"
      },
      "source": [
        "**리스트의 더하기와 extend 함수**"
      ]
    },
    {
      "cell_type": "code",
      "metadata": {
        "colab": {
          "base_uri": "https://localhost:8080/"
        },
        "id": "SI1RZbTV2_7o",
        "outputId": "c4bda6a5-02ed-4a38-f803-f72d2a8e1f2e"
      },
      "source": [
        "a = [1, 2, 3]\r\n",
        "id(a)   # id 함수는 입력으로 받은 리스트 a의 주소 값을 돌려준다."
      ],
      "execution_count": 5,
      "outputs": [
        {
          "output_type": "execute_result",
          "data": {
            "text/plain": [
              "140282966574976"
            ]
          },
          "metadata": {
            "tags": []
          },
          "execution_count": 5
        }
      ]
    },
    {
      "cell_type": "code",
      "metadata": {
        "colab": {
          "base_uri": "https://localhost:8080/"
        },
        "id": "bPRTdzTw6cP_",
        "outputId": "88728a86-d5a4-43e2-d896-f8d75c2d5c83"
      },
      "source": [
        "a = a + [4, 5]\r\n",
        "a\r\n",
        "id(a)"
      ],
      "execution_count": 7,
      "outputs": [
        {
          "output_type": "execute_result",
          "data": {
            "text/plain": [
              "140282966106192"
            ]
          },
          "metadata": {
            "tags": []
          },
          "execution_count": 7
        }
      ]
    },
    {
      "cell_type": "markdown",
      "metadata": {
        "id": "6jAKFurZ6glN"
      },
      "source": [
        "리스트 a에 + 기호를 사용하여 [4, 5]라는 리스트를 더한 다음, 리스트 a의 주소 값을 다시 확인해보면   \r\n",
        "이전 리스트 a가 저장되어 있던 주소와 다른 값을 돌려주는 것을 확인할 수 있다.\r\n",
        "\r\n",
        "주소 값이 다르기 때문에   \r\n",
        "`+`를 사용하면 리스트 a의 값이 변하는 것이 아니라   \r\n",
        "두 리스트가 더해진 새로운 리스트가 반환되는 것."
      ]
    },
    {
      "cell_type": "code",
      "metadata": {
        "colab": {
          "base_uri": "https://localhost:8080/"
        },
        "id": "nNeE8Tpn62Kw",
        "outputId": "faecc87c-4441-4d9a-d98b-b5a5fda4ac14"
      },
      "source": [
        "a = [1, 2, 3]\r\n",
        "id(a)"
      ],
      "execution_count": 17,
      "outputs": [
        {
          "output_type": "execute_result",
          "data": {
            "text/plain": [
              "140282966574896"
            ]
          },
          "metadata": {
            "tags": []
          },
          "execution_count": 17
        }
      ]
    },
    {
      "cell_type": "code",
      "metadata": {
        "colab": {
          "base_uri": "https://localhost:8080/"
        },
        "id": "g2zg-Tlj66Z4",
        "outputId": "90460b9f-c568-4be8-ddf9-c1c3852ece7d"
      },
      "source": [
        "a.extend([4,5])\r\n",
        "print(a)\r\n",
        "id(a)"
      ],
      "execution_count": 18,
      "outputs": [
        {
          "output_type": "stream",
          "text": [
            "[1, 2, 3, 4, 5]\n"
          ],
          "name": "stdout"
        },
        {
          "output_type": "execute_result",
          "data": {
            "text/plain": [
              "140282966574896"
            ]
          },
          "metadata": {
            "tags": []
          },
          "execution_count": 18
        }
      ]
    },
    {
      "cell_type": "markdown",
      "metadata": {
        "id": "qdgdm7SR7UGT"
      },
      "source": [
        "extend 함수를 사용하여 리스트 a에 [4, 5]라는 리스트를 더해준 다음   \r\n",
        "다시 리스트 a의 주소 값을 확인해보면\r\n",
        "\r\n",
        "`+` 기호를 사용하여 더했을 경우와는 달리,\r\n",
        "리스트 a의 주소 값이 여전히 동일한 것을 볼 수 있다."
      ]
    },
    {
      "cell_type": "markdown",
      "metadata": {
        "id": "mbbzirBfUT-Q"
      },
      "source": [
        "## 결과\r\n"
      ]
    },
    {
      "cell_type": "markdown",
      "metadata": {
        "id": "ljlmyWQFb-XD"
      },
      "source": [
        "1-1."
      ]
    },
    {
      "cell_type": "code",
      "metadata": {
        "colab": {
          "base_uri": "https://localhost:8080/"
        },
        "id": "QSHYSC3apKLF",
        "outputId": "7ff01456-c034-49d3-a576-8518a068dd95"
      },
      "source": [
        "btype = ['A', 'A', 'A', 'O', 'B', 'B', 'O', 'AB', 'AB', 'O']\r\n",
        "a = []\r\n",
        "b = []\r\n",
        "ab = []\r\n",
        "o = []\r\n",
        "\r\n",
        "for i in btype :\r\n",
        "    if i == 'A' :\r\n",
        "        a.append(i)\r\n",
        "    elif i == 'B' :\r\n",
        "        b.append(i)\r\n",
        "    elif i == 'AB' :\r\n",
        "        ab.append(i) \r\n",
        "    else :\r\n",
        "        o.append(i)\r\n",
        "\r\n",
        "print(f\"{{'A': {len(a)}, 'O': {len(o)}, 'B': {len(b)}, 'AB': {len(ab)}}}\")      "
      ],
      "execution_count": null,
      "outputs": [
        {
          "output_type": "stream",
          "text": [
            "{'A': 3, 'O': 3, 'B': 2, 'AB': 2}\n"
          ],
          "name": "stdout"
        }
      ]
    },
    {
      "cell_type": "markdown",
      "metadata": {
        "id": "rBmVwO5lZgyN"
      },
      "source": [
        "1-2."
      ]
    },
    {
      "cell_type": "code",
      "metadata": {
        "colab": {
          "base_uri": "https://localhost:8080/"
        },
        "id": "eVPc2XJ8Zhjh",
        "outputId": "04159fc4-b0dc-4ed1-a2d6-047147e22dc7"
      },
      "source": [
        "btype = ['A', 'A', 'A', 'O', 'B', 'B', 'O', 'AB', 'AB', 'O']\r\n",
        "a = 0\r\n",
        "b = 0\r\n",
        "ab = 0\r\n",
        "o = 0\r\n",
        "for num in btype:\r\n",
        "    if num == 'A':\r\n",
        "        a += 1\r\n",
        "    elif num == 'B':\r\n",
        "        b += 1\r\n",
        "    elif num == 'AB':\r\n",
        "        ab += 1\r\n",
        "    else:\r\n",
        "        o += 1\r\n",
        "\r\n",
        "print(\"'A': {}, 'O': {}, 'B': {}, 'AB': {}\".format(a, o, b, ab))"
      ],
      "execution_count": null,
      "outputs": [
        {
          "output_type": "stream",
          "text": [
            "'A': 3, 'O': 3, 'B': 2, 'AB': 2\n"
          ],
          "name": "stdout"
        }
      ]
    },
    {
      "cell_type": "markdown",
      "metadata": {
        "id": "JM6iG5wRaCXG"
      },
      "source": [
        "1-3."
      ]
    },
    {
      "cell_type": "code",
      "metadata": {
        "colab": {
          "base_uri": "https://localhost:8080/"
        },
        "id": "WXDQSxjlwhmW",
        "outputId": "6f856cb4-a175-40ac-c8ee-232fbff47913"
      },
      "source": [
        "btype = ['A', 'A', 'A', 'O', 'B', 'B', 'O', 'AB', 'AB', 'O']\r\n",
        "a, b, ab, o = 0, 0, 0, 0\r\n",
        "for blood in btype:\r\n",
        "    if(blood == 'A'):\r\n",
        "        a += 1\r\n",
        "    if(blood == 'B'):\r\n",
        "        b += 1\r\n",
        "    if(blood == 'AB'):\r\n",
        "        ab += 1\r\n",
        "    if(blood == 'O'):\r\n",
        "        o += 1\r\n",
        "\r\n",
        "print(\"{'A': %d, 'O': %d, 'B': %d, 'AB': %d}\" % (a, o, b, ab))"
      ],
      "execution_count": null,
      "outputs": [
        {
          "output_type": "stream",
          "text": [
            "{'A': 3, 'O': 3, 'B': 2, 'AB': 2}\n"
          ],
          "name": "stdout"
        }
      ]
    },
    {
      "cell_type": "markdown",
      "metadata": {
        "id": "gerXsIxdwhRd"
      },
      "source": [
        "결과 2. 딕셔너리 이용"
      ]
    },
    {
      "cell_type": "code",
      "metadata": {
        "colab": {
          "base_uri": "https://localhost:8080/"
        },
        "id": "HOX7YNKsaFaP",
        "outputId": "bed752b0-6f7c-4a3a-a57f-fe8ca5bd507e"
      },
      "source": [
        "data = ['A', 'A', 'A', 'O', 'B', 'B', 'O', 'AB', 'AB', 'O']\r\n",
        "result = {}\r\n",
        "for btype in data:\r\n",
        "    if btype in result:  # 키 값이 존재하는 경우에는 기존 값에 더함\r\n",
        "        result[btype] += 1\r\n",
        "    else:  # 키 값이 없는 경우에는 새로운 키 생성\r\n",
        "        result[btype] = 1\r\n",
        "\r\n",
        "print(result)  # {'A': 3, 'O': 3, 'B': 3, 'AB': 3} 출력"
      ],
      "execution_count": null,
      "outputs": [
        {
          "output_type": "stream",
          "text": [
            "{'A': 3, 'O': 3, 'B': 2, 'AB': 2}\n"
          ],
          "name": "stdout"
        }
      ]
    },
    {
      "cell_type": "markdown",
      "metadata": {
        "id": "7t-Yu676a4QA"
      },
      "source": [
        "결과 3. List comprehension"
      ]
    },
    {
      "cell_type": "code",
      "metadata": {
        "colab": {
          "base_uri": "https://localhost:8080/"
        },
        "id": "_e-HkYmaa4_A",
        "outputId": "05ffe392-1a7c-4531-c6d0-2a7650f31dc8"
      },
      "source": [
        "Data = ['A', 'A', 'A', 'O', 'B', 'B', 'O', 'AB', 'AB', 'O']\r\n",
        "\r\n",
        "A = [a for a in Data if a == 'A']\r\n",
        "O = [o for o in Data if o == 'O']\r\n",
        "B = [b for b in Data if b == 'B']\r\n",
        "AB = [ab for ab in Data if ab == 'AB']\r\n",
        "\r\n",
        "print(\"{'A': %d, 'O': %d, 'B': %d, 'AB': %d}\" % (a, o, b, ab))"
      ],
      "execution_count": null,
      "outputs": [
        {
          "output_type": "stream",
          "text": [
            "{'A': 3, 'O': 3, 'B': 2, 'AB': 2}\n"
          ],
          "name": "stdout"
        }
      ]
    },
    {
      "cell_type": "markdown",
      "metadata": {
        "id": "1zvHndrHjY5X"
      },
      "source": [
        "**List Comprehension**\r\n",
        "\r\n",
        "> 리스트 컴프리헨션이란 쉽게 말해 리스트를 쉽고 **짧게 한 줄로** 만들 수 있는 파이썬의 문법\r\n",
        "\r\n",
        "리스트 컴프리헨션의 기본적인 문법은 다음과 같다.\r\n",
        "\r\n",
        "```\r\n",
        "[ ( 변수를 활용한 값 ) for ( 사용할 변수 이름 ) in ( 순회할 수 있는 값 )]\r\n",
        "```"
      ]
    },
    {
      "cell_type": "markdown",
      "metadata": {
        "id": "fFJzBuQHTqbE"
      },
      "source": [
        "[참고]\r\n",
        "\r\n",
        "파이썬 내장형  중 리스트 : https://docs.python.org/ko/3/library/stdtypes.html   \r\n",
        "점프 투 파이썬 (02-3 리스트 자료형) : https://wikidocs.net/14#_6   \r\n",
        "Python List append와 extend 차이점 : https://m.blog.naver.com/wideeyed/221541104629   \r\n",
        "리스트 컴프리헨션 : https://shoark7.github.io/programming/python/about-list-comprehension-python"
      ]
    }
  ]
}