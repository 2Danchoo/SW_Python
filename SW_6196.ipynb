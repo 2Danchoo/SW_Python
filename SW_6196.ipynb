{
  "nbformat": 4,
  "nbformat_minor": 0,
  "metadata": {
    "colab": {
      "name": "SW_1-5.ipynb",
      "provenance": []
    },
    "kernelspec": {
      "name": "python3",
      "display_name": "Python 3"
    }
  },
  "cells": [
    {
      "cell_type": "markdown",
      "metadata": {
        "id": "Ujo2c2So8vWD"
      },
      "source": [
        "<SW Expert Academy 모의 테스트>\r\n",
        "\r\n",
        "#### 6196. [파이썬 프로그래밍 기초(1) 파이썬의 기본 구조와 기초 문법] 4. 변수\r\n",
        "\r\n",
        "**1~9 사이의 정수 a를 입력받아 a + aa + aaa + aaaa 의 값을 계산하는 프로그램을 작성하십시오.**"
      ]
    },
    {
      "cell_type": "code",
      "metadata": {
        "id": "FaQ-DzGb9SJR"
      },
      "source": [
        "# 기본 제공코드는 임의 수정해도 관계 없습니다. 단, 입출력 포맷 주의\r\n",
        "# 아래 표준 입출력 예제 필요시 참고하세요.\r\n",
        "\r\n",
        "# 표준 입력 예제\r\n",
        "'''\r\n",
        "a = int(input())                        정수형 변수 1개 입력 받는 예제\r\n",
        "b, c = map(int, input().split())        정수형 변수 2개 입력 받는 예제 \r\n",
        "d = float(input())                      실수형 변수 1개 입력 받는 예제\r\n",
        "e, f, g = map(float, input().split())   실수형 변수 3개 입력 받는 예제\r\n",
        "h = input()                             문자열 변수 1개 입력 받는 예제\r\n",
        "'''\r\n",
        "\r\n",
        "# 표준 출력 예제\r\n",
        "'''\r\n",
        "a, b = 6, 3\r\n",
        "c, d, e = 1.0, 2.5, 3.4\r\n",
        "f = \"ABC\"\r\n",
        "print(a)                                정수형 변수 1개 출력하는 예제\r\n",
        "print(b, end = \" \")                     줄바꿈 하지 않고 정수형 변수와 공백을 출력하는 예제\r\n",
        "print(c, d, e)                          실수형 변수 3개 출력하는 예제\r\n",
        "print(f)                                문자열 1개 출력하는 예제\r\n",
        "'''\r\n",
        "\r\n",
        "import sys\r\n",
        "\r\n",
        "\r\n",
        "'''\r\n",
        "      아래의 구문은 input.txt 를 read only 형식으로 연 후,\r\n",
        "      앞으로 표준 입력(키보드) 대신 input.txt 파일로부터 읽어오겠다는 의미의 코드입니다.\r\n",
        "      여러분이 작성한 코드를 테스트 할 때, 편의를 위해서 input.txt에 입력을 저장한 후,\r\n",
        "      아래 구문을 이용하면 이후 입력을 수행할 때 표준 입력 대신 파일로부터 입력을 받아올 수 있습니다.\r\n",
        "\r\n",
        "      따라서 테스트를 수행할 때에는 아래 주석을 지우고 이 구문을 사용하셔도 좋습니다.\r\n",
        "      아래 구문을 사용하기 위해서는 import sys가 필요합니다.\r\n",
        "\r\n",
        "      단, 채점을 위해 코드를 제출하실 때에는 반드시 아래 구문을 지우거나 주석 처리 하셔야 합니다.\r\n",
        "'''\r\n",
        "#sys.stdin = open(\"input.txt\", \"r\")\r\n",
        "\r\n",
        "T = int(input())\r\n",
        "# 여러개의 테스트 케이스가 주어지므로, 각각을 처리합니다.\r\n",
        "for test_case in range(1, T + 1):\r\n",
        "    # ///////////////////////////////////////////////////////////////////////////////////\r\n",
        "    '''\r\n",
        "\r\n",
        "        이 부분에 여러분의 알고리즘 구현이 들어갑니다.\r\n",
        "\r\n",
        "    '''\r\n",
        "    # ///////////////////////////////////////////////////////////////////////////////////\r\n"
      ],
      "execution_count": null,
      "outputs": []
    },
    {
      "cell_type": "code",
      "metadata": {
        "colab": {
          "base_uri": "https://localhost:8080/"
        },
        "id": "-fv34VWRuPwt",
        "outputId": "fae51c2e-c1d3-4be8-a489-e4579d3877d8"
      },
      "source": [
        "number = int(input())\r\n",
        "m = 0\r\n",
        "s = 0\r\n",
        "\r\n",
        "if number >= 1 and number <= 9 :\r\n",
        "    for i in range(1, 5) :\r\n",
        "        m = m*10+1\r\n",
        "        s = s + number * m\r\n",
        "    print(s)\r\n",
        "\r\n",
        "else :\r\n",
        "    print(\"1~9 사이의 정수를 입력하세요\") "
      ],
      "execution_count": 40,
      "outputs": [
        {
          "output_type": "stream",
          "text": [
            "7\n",
            "8638\n"
          ],
          "name": "stdout"
        }
      ]
    }
  ]
}