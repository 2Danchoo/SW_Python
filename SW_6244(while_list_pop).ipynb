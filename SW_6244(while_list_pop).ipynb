{
  "nbformat": 4,
  "nbformat_minor": 0,
  "metadata": {
    "colab": {
      "name": "SW_6244(while_list.pop).ipynb",
      "provenance": [],
      "collapsed_sections": []
    },
    "kernelspec": {
      "name": "python3",
      "display_name": "Python 3"
    }
  },
  "cells": [
    {
      "cell_type": "markdown",
      "metadata": {
        "id": "VQpjhPc1EzGq"
      },
      "source": [
        "**SW Expert Academy 파이썬 프로그래밍 기초(1)**\r\n",
        "# 6244. 파이썬 기초 (27차시) 7. 흐름과 제어 - 반복 - 연습문제 7\r\n",
        "<hr/><br>\r\n",
        "\r\n",
        "다음은 학생의 점수를 나타내는 리스트입니다.\r\n",
        "\r\n",
        "[85, 65, 77, 83, 75, 22, 98, 88, 38, 100]\r\n",
        "\r\n",
        "while 문과 리스트 객체의 pop()을 이용해 80점 이상의 점수들의 총합을 구하시오.\r\n",
        "\r\n",
        "<br><hr/>\r\n",
        "\r\n",
        "입력 : 입력값 없음 <br>\r\n",
        "출력 : 454"
      ]
    },
    {
      "cell_type": "markdown",
      "metadata": {
        "id": "l-5OAoqma3A1"
      },
      "source": [
        "1차 코드 (list comprehension / while 문과 list.pop()을 사용하지 않음)"
      ]
    },
    {
      "cell_type": "code",
      "metadata": {
        "colab": {
          "base_uri": "https://localhost:8080/"
        },
        "id": "zfZq--sqSDfY",
        "outputId": "68be2af1-986b-4aea-a97b-8e38d9e4a21e"
      },
      "source": [
        "st = [85, 65, 77, 83, 75, 22, 98, 88, 38, 100]\r\n",
        "ps = [i for i in st if i >= 80]      # list comprehension\r\n",
        "\r\n",
        "print(sum(ps))\r\n"
      ],
      "execution_count": null,
      "outputs": [
        {
          "output_type": "stream",
          "text": [
            "454\n"
          ],
          "name": "stdout"
        }
      ]
    },
    {
      "cell_type": "markdown",
      "metadata": {
        "id": "LM_-yv2g-BZv"
      },
      "source": [
        "## 학습 / while 문 & list.pop()"
      ]
    },
    {
      "cell_type": "markdown",
      "metadata": {
        "id": "lwAbG7RqbTDb"
      },
      "source": [
        "### while\r\n",
        "\r\n",
        "`while` 루프는 일부 조건이 `False` 평가 될 때까지 여러 번 반복된다.   \r\n",
        "조건은 루프 본문 앞에 주어지며 루프 본문을 실행할 때마다 검사된다.   \r\n",
        "일반적으로 `while` 루프는 루프 반복의 정확한 수를 미리 결정할 수 없을 때 사용한다.\r\n",
        "\r\n",
        "가장 단순한 경우 `while` 루프의 구문은 다음과 같다.\r\n",
        "```\r\n",
        "while some condition :\r\n",
        "    a block of statements\r\n",
        "\r\n",
        "```\r\n",
        "<hr>\r\n",
        "\r\n",
        "```\r\n",
        "while 조건식 :\r\n",
        "　　명령문 1\r\n",
        "　　명령문 2\r\n",
        "　　　....\r\n",
        "```\r\n",
        "파이썬은 먼저 조건을 검사한다.   \r\n",
        "`False`이면 루프가 종료되고 `while` 루프 본문 뒤에 다음 명령문으로 제어를　명령문 2\r\n",
        "　　　....\r\n",
        "```\r\n",
        "\r\n",
        "파이썬은 먼저 조건을 검사한다.   \r\n",
        "`False`이면 루프가 종료되고 `while` 루프 본문 뒤에 다음 명령문으로 제어를 전달한다.   \r\n",
        "조건이 참이면 루프 본문이 실행된 다음 조건을 다시 검사한다. 이 과정은 조건이 참인 동안 계속된다.   \r\n",
        "조건이 `False`가 되면 루프도 종료되고 제어가 루프 다음의 명령문으로 전달된다."
      ]
    },
    {
      "cell_type": "markdown",
      "metadata": {
        "id": "SvBRAZX5MQf4"
      },
      "source": [
        "### list.pop()\r\n",
        "\r\n",
        "리스트에서 원소를 제거할 때 사용하는 `remove()`와 달리   \r\n",
        "`pop()`은 소괄호 안에 인덱스를 넣는다.\r\n",
        "\r\n",
        "```\r\n",
        "리스트.pop(i)　# i는 제거할 원소의 인덱스\r\n",
        "```\r\n"
      ]
    },
    {
      "cell_type": "markdown",
      "metadata": {
        "id": "4B6y-sN9M_v1"
      },
      "source": [
        "list.pop() 예시"
      ]
    },
    {
      "cell_type": "code",
      "metadata": {
        "colab": {
          "base_uri": "https://localhost:8080/"
        },
        "id": "q0OtIrs9M_SM",
        "outputId": "ae6a3743-665d-4bb3-dd60-aa68f5fee7a0"
      },
      "source": [
        "list = [1, 2, 3, 4, 5]\r\n",
        "list.pop(0) # 인덱스 0인 원소 제거\r\n",
        "\r\n",
        "print(list) # 인덱스 0에 있던 1이 제거되어 [2, 3, 4, 5] 출력"
      ],
      "execution_count": null,
      "outputs": [
        {
          "output_type": "stream",
          "text": [
            "[2, 3, 4, 5]\n"
          ],
          "name": "stdout"
        }
      ]
    },
    {
      "cell_type": "code",
      "metadata": {
        "colab": {
          "base_uri": "https://localhost:8080/"
        },
        "id": "Mh3pzt89NXsf",
        "outputId": "7d122c45-fd08-444e-c73b-7287eba56f32"
      },
      "source": [
        "list = [1, 2, 3, 4, 5]\r\n",
        "list.pop() # 소괄호 안이 비어있다면 리스트의 마지막 원소가 제거된다.\r\n",
        "\r\n",
        "print(list) # 마지막 인덱스인 5가 제거되어 [1, 2, 3, 4] 출력"
      ],
      "execution_count": null,
      "outputs": [
        {
          "output_type": "stream",
          "text": [
            "[1, 2, 3, 4]\n"
          ],
          "name": "stdout"
        }
      ]
    },
    {
      "cell_type": "markdown",
      "metadata": {
        "id": "P3EAaNSrOAi5"
      },
      "source": [
        "list.pop()으로 제거한 원소 출력"
      ]
    },
    {
      "cell_type": "code",
      "metadata": {
        "colab": {
          "base_uri": "https://localhost:8080/"
        },
        "id": "VNWClufDOLLj",
        "outputId": "d243fd0f-ae08-4950-9942-e1f43da2245d"
      },
      "source": [
        "list = [1, 2, 3, 4, 5]\r\n",
        "print(list.pop(0))"
      ],
      "execution_count": null,
      "outputs": [
        {
          "output_type": "stream",
          "text": [
            "1\n"
          ],
          "name": "stdout"
        }
      ]
    },
    {
      "cell_type": "markdown",
      "metadata": {
        "id": "zg7bBb37OOyb"
      },
      "source": [
        "pop()의 또 다른 특징은 제거한 원소를 반환해 준다는 것이다.   \r\n",
        "\r\n",
        "리스트.pop(0)으로 인덱스 0인 원소를 제거했을 때,   \r\n",
        "pop(0)은 그 제거한 값을 출력해준다.\r\n",
        "\r\n",
        "pop()에는 제거한 값을 알려 주는 반환 기능이 들어 있어서 가능한 것."
      ]
    },
    {
      "cell_type": "markdown",
      "metadata": {
        "id": "JlZam83lN2qN"
      },
      "source": [
        "<hr>"
      ]
    },
    {
      "cell_type": "markdown",
      "metadata": {
        "id": "YYM8fYrT-rh2"
      },
      "source": [
        "## 풀이"
      ]
    },
    {
      "cell_type": "code",
      "metadata": {
        "colab": {
          "base_uri": "https://localhost:8080/"
        },
        "id": "ap7eOpoPIHTA",
        "outputId": "227d7bd4-1c0a-4768-89a8-99bb4f90866f"
      },
      "source": [
        "st = [85, 65, 77, 83, 75, 22, 98, 88, 38, 100]\r\n",
        "print(sum(st))"
      ],
      "execution_count": null,
      "outputs": [
        {
          "output_type": "stream",
          "text": [
            "731\n"
          ],
          "name": "stdout"
        }
      ]
    },
    {
      "cell_type": "code",
      "metadata": {
        "colab": {
          "base_uri": "https://localhost:8080/"
        },
        "id": "-5jvlHV7JVfh",
        "outputId": "b0dccc91-9f9c-4c19-d97c-c0bd47e50871"
      },
      "source": [
        "score = [85, 65, 77, 83, 75, 22, 98, 88, 38, 100]\r\n",
        "sum = 0\r\n",
        "\r\n",
        "while(score) :\r\n",
        "   i = score.pop()\r\n",
        "   if i >= 80 :\r\n",
        "       sum += i\r\n",
        "print(sum)"
      ],
      "execution_count": null,
      "outputs": [
        {
          "output_type": "stream",
          "text": [
            "454\n"
          ],
          "name": "stdout"
        }
      ]
    },
    {
      "cell_type": "markdown",
      "metadata": {
        "id": "Kxjy2d10YMeC"
      },
      "source": [
        "##결과"
      ]
    },
    {
      "cell_type": "code",
      "metadata": {
        "colab": {
          "base_uri": "https://localhost:8080/"
        },
        "id": "uB86GdrgYOf5",
        "outputId": "9cc4392c-e42b-434b-bb01-a8a83f7ba8b0"
      },
      "source": [
        "score = [85, 65, 77, 83, 75, 22, 98, 88, 38, 100]\r\n",
        "sum = 0\r\n",
        "\r\n",
        "while(score) :\r\n",
        "   i = score.pop()\r\n",
        "   if i >= 80 :\r\n",
        "       sum += i\r\n",
        "print(sum)"
      ],
      "execution_count": null,
      "outputs": [
        {
          "output_type": "stream",
          "text": [
            "454\n"
          ],
          "name": "stdout"
        }
      ]
    },
    {
      "cell_type": "code",
      "metadata": {
        "id": "7QzTvRxKYXHX"
      },
      "source": [
        "st = [85, 65, 77, 83, 75, 22, 98, 88, 38, 100]\r\n",
        "ps = [i while i in st if i >= 80]\r\n",
        "\r\n",
        "print(sum(ps))"
      ],
      "execution_count": null,
      "outputs": []
    },
    {
      "cell_type": "markdown",
      "metadata": {
        "id": "z2DC0KvsIcDb"
      },
      "source": [
        "[참고]\r\n",
        "\r\n",
        "While 루프 : https://snakify.org/ko/lessons/while_loop/   \r\n",
        "Python sum() List : https://blog.finxter.com/python-sum-list/   \r\n",
        "반복문으로 리스트의 요소를 모두 출력하기 : https://dojang.io/mod/page/view.php?id=2283   \r\n",
        "Python List While Loop : https://pythonexamples.org/python-list-while-loop/   \r\n",
        "\r\n"
      ]
    },
    {
      "cell_type": "markdown",
      "metadata": {
        "id": "Pik4E0GmEp-L"
      },
      "source": [
        "## Failure Code"
      ]
    },
    {
      "cell_type": "code",
      "metadata": {
        "colab": {
          "base_uri": "https://localhost:8080/"
        },
        "id": "_WdmIQ_sKth6",
        "outputId": "9c79eb63-fbc8-4548-f90c-f8955732eb2a"
      },
      "source": [
        "st = [85, 65, 77, 83, 75, 22, 98, 88, 38, 100]\r\n",
        "ps = [ps >= 80 for ps in st]    # list comprehension 으로 풀이 시도\r\n",
        "\r\n",
        "ps"
      ],
      "execution_count": null,
      "outputs": [
        {
          "output_type": "execute_result",
          "data": {
            "text/plain": [
              "[True, False, False, True, False, False, True, True, False, True]"
            ]
          },
          "metadata": {
            "tags": []
          },
          "execution_count": 20
        }
      ]
    },
    {
      "cell_type": "code",
      "metadata": {
        "id": "xPD-cluFFWbR"
      },
      "source": [
        ""
      ],
      "execution_count": null,
      "outputs": []
    }
  ]
}