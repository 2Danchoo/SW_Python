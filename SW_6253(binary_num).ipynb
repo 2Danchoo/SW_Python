{
  "nbformat": 4,
  "nbformat_minor": 0,
  "metadata": {
    "colab": {
      "name": "SW_6253(binary_num).ipynb",
      "provenance": [],
      "collapsed_sections": [],
      "toc_visible": true
    },
    "kernelspec": {
      "name": "python3",
      "display_name": "Python 3"
    }
  },
  "cells": [
    {
      "cell_type": "markdown",
      "metadata": {
        "id": "z7LiqoRSS2Lm"
      },
      "source": [
        "**SW Expert Academy 파이썬 프로그래밍 기초(1)**\n",
        "# 6253. 파이썬 기초 (32차시) 7. 흐름과 제어 - 반복 - 연습문제 13\n",
        "<hr/><br>\n",
        "\n",
        "다음의 결과와 같이 10진수를 2진수로 변환하는 프로그램을 작성하십시오.\n",
        "\n",
        "\n",
        "<br><hr/>\n",
        "\n",
        "입력 : 9 <br>\n",
        "출력 : 1001"
      ]
    },
    {
      "cell_type": "markdown",
      "metadata": {
        "id": "lTFpa0ozH9p1"
      },
      "source": [
        "## Python Syntax"
      ]
    },
    {
      "cell_type": "markdown",
      "metadata": {
        "id": "a4cOX9kRTybO"
      },
      "source": [
        "### 2진수\n",
        "\n"
      ]
    },
    {
      "cell_type": "markdown",
      "metadata": {
        "id": "o9HTmAdoV6wP"
      },
      "source": [
        "\n",
        "|10진수| 1 | 2 | 3 | 4 | 5 | 6 | 7 | 8 | 9 | 10 |\n",
        "|:---:|:---:|:---:|:---:|:---:|:---:|:---:|:---:|:---:|:---:|:---:|\n",
        "|**2진수** | 1 | 10 | 11 | 100 | 101 | 110 | 111 | 1000 | 1001 | 1010 |"
      ]
    },
    {
      "cell_type": "markdown",
      "metadata": {
        "id": "1k2JSntUXKp2"
      },
      "source": [
        "**10진수를 2진수로 변환하는 법**\n",
        "\n",
        "\n",
        "[참고]\n",
        "https://meaningone.tistory.com/606"
      ]
    },
    {
      "cell_type": "markdown",
      "metadata": {
        "id": "rq9WgvaGYBKr"
      },
      "source": [
        "<p align=\"center\">\n",
        "<img src = \"https://t1.daumcdn.net/cfile/tistory/232DEF4B57EC8CF804\">\n",
        "</P>\n",
        "\n"
      ]
    },
    {
      "cell_type": "markdown",
      "metadata": {
        "id": "EM6snSBlWe48"
      },
      "source": [
        "### Python 진수 변환\n",
        "\n"
      ]
    },
    {
      "cell_type": "markdown",
      "metadata": {
        "id": "evJgeGylX5M9"
      },
      "source": [
        ""
      ]
    },
    {
      "cell_type": "markdown",
      "metadata": {
        "id": "pJAnOXCbY9Tc"
      },
      "source": [
        "## Process"
      ]
    },
    {
      "cell_type": "markdown",
      "metadata": {
        "id": "qSiWagDzY-6F"
      },
      "source": [
        "### while 문 사용"
      ]
    },
    {
      "cell_type": "code",
      "metadata": {
        "colab": {
          "base_uri": "https://localhost:8080/",
          "height": 241
        },
        "id": "0p9rUFYOZA5U",
        "outputId": "48d0b86c-66cd-44d0-de4e-91e1afa285bd"
      },
      "source": [
        "# 10진수를 2진수로\n",
        "\n",
        "num = int(input())\n",
        "l = []\n",
        "a = 0\n",
        "\n",
        "while num > 0 :\n",
        "    if num / 2 > 1 :\n",
        "        l += 0; a += 1\n",
        "    print(l)"
      ],
      "execution_count": null,
      "outputs": [
        {
          "output_type": "stream",
          "text": [
            "9\n"
          ],
          "name": "stdout"
        },
        {
          "output_type": "error",
          "ename": "TypeError",
          "evalue": "ignored",
          "traceback": [
            "\u001b[0;31m---------------------------------------------------------------------------\u001b[0m",
            "\u001b[0;31mTypeError\u001b[0m                                 Traceback (most recent call last)",
            "\u001b[0;32m<ipython-input-12-052460a55ea1>\u001b[0m in \u001b[0;36m<module>\u001b[0;34m()\u001b[0m\n\u001b[1;32m      7\u001b[0m \u001b[0;32mwhile\u001b[0m \u001b[0mnum\u001b[0m \u001b[0;34m>\u001b[0m \u001b[0;36m0\u001b[0m \u001b[0;34m:\u001b[0m\u001b[0;34m\u001b[0m\u001b[0;34m\u001b[0m\u001b[0m\n\u001b[1;32m      8\u001b[0m     \u001b[0;32mif\u001b[0m \u001b[0mnum\u001b[0m \u001b[0;34m/\u001b[0m \u001b[0;36m2\u001b[0m \u001b[0;34m>\u001b[0m \u001b[0;36m1\u001b[0m \u001b[0;34m:\u001b[0m\u001b[0;34m\u001b[0m\u001b[0;34m\u001b[0m\u001b[0m\n\u001b[0;32m----> 9\u001b[0;31m         \u001b[0ml\u001b[0m \u001b[0;34m+=\u001b[0m \u001b[0;36m0\u001b[0m\u001b[0;34m;\u001b[0m \u001b[0ma\u001b[0m \u001b[0;34m+=\u001b[0m \u001b[0;36m1\u001b[0m\u001b[0;34m\u001b[0m\u001b[0;34m\u001b[0m\u001b[0m\n\u001b[0m\u001b[1;32m     10\u001b[0m     \u001b[0mprint\u001b[0m\u001b[0;34m(\u001b[0m\u001b[0ml\u001b[0m\u001b[0;34m)\u001b[0m\u001b[0;34m\u001b[0m\u001b[0;34m\u001b[0m\u001b[0m\n",
            "\u001b[0;31mTypeError\u001b[0m: 'int' object is not iterable"
          ]
        }
      ]
    },
    {
      "cell_type": "code",
      "metadata": {
        "id": "WytY0zR-S1SY",
        "colab": {
          "base_uri": "https://localhost:8080/"
        },
        "outputId": "cfd95fd1-cfa4-4f01-f514-ecfe31268379"
      },
      "source": [
        "x = int(input())\n",
        "y = \"\"\n",
        "\n",
        "while x > 0 :\n",
        "    y = str(x % 2) + y\n",
        "    x //= 2\n",
        "print(y)"
      ],
      "execution_count": null,
      "outputs": [
        {
          "output_type": "stream",
          "text": [
            "9\n",
            "1001\n"
          ],
          "name": "stdout"
        }
      ]
    },
    {
      "cell_type": "markdown",
      "metadata": {
        "id": "7Yi1hO46lvHf"
      },
      "source": [
        "### bin() 내장함수 사용\n",
        "\n"
      ]
    },
    {
      "cell_type": "code",
      "metadata": {
        "colab": {
          "base_uri": "https://localhost:8080/"
        },
        "id": "FV9aACSPl_hd",
        "outputId": "a6c29d93-a657-4775-c6e9-721684e63a2c"
      },
      "source": [
        "num = int(input())\n",
        "\n",
        "print(bin(num)[2:])"
      ],
      "execution_count": null,
      "outputs": [
        {
          "output_type": "stream",
          "text": [
            "9\n",
            "1001\n"
          ],
          "name": "stdout"
        }
      ]
    },
    {
      "cell_type": "markdown",
      "metadata": {
        "id": "mSfpqRwvqWRx"
      },
      "source": [
        "### format() 내장함수 사용"
      ]
    },
    {
      "cell_type": "code",
      "metadata": {
        "colab": {
          "base_uri": "https://localhost:8080/"
        },
        "id": "lxoqwgFsqaXP",
        "outputId": "2f143893-91a8-4dbc-cb62-9de1fc072fde"
      },
      "source": [
        "num = int(input())\n",
        "i = format(num, 'b')\n",
        "\n",
        "print(i)"
      ],
      "execution_count": null,
      "outputs": [
        {
          "output_type": "stream",
          "text": [
            "10\n",
            "1010\n"
          ],
          "name": "stdout"
        }
      ]
    },
    {
      "cell_type": "code",
      "metadata": {
        "colab": {
          "base_uri": "https://localhost:8080/"
        },
        "id": "vxLV5llLqwkm",
        "outputId": "55fc600c-c345-48f9-92bb-27181b3827ed"
      },
      "source": [
        "num = int(input())\n",
        "\n",
        "print(format(num, 'b'))"
      ],
      "execution_count": null,
      "outputs": [
        {
          "output_type": "stream",
          "text": [
            "10\n",
            "1010\n"
          ],
          "name": "stdout"
        }
      ]
    },
    {
      "cell_type": "markdown",
      "metadata": {
        "id": "zkaTEDUdTsRW"
      },
      "source": [
        "## [참고]\n",
        "Python 진수 변환 : https://94incheon.github.io/python/Python_%EC%A7%84%EC%88%98%EB%B3%80%ED%99%98/   \n",
        "\n",
        "\n",
        "Python Slice Strings :   \n",
        "1. https://www.w3schools.com/python/gloss_python_string_slice.asp   \n",
        "2. https://www.geeksforgeeks.org/string-slicing-in-python/   \n",
        "3. https://www.journaldev.com/23584/python-slice-string   \n",
        "\n",
        "\n"
      ]
    }
  ]
}